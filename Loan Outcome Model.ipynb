{
 "cells": [
  {
   "cell_type": "code",
   "execution_count": 1,
   "id": "09b8b250",
   "metadata": {},
   "outputs": [],
   "source": [
    "import numpy as np\n",
    "import pandas as pd\n",
    "import matplotlib.pyplot as plt\n",
    "import seaborn as sns\n",
    "import scipy.stats as st\n",
    "import dataframe_image as dfi\n",
    "\n",
    "from sklearn.model_selection import train_test_split\n",
    "from sklearn.preprocessing import MinMaxScaler\n",
    "from tensorflow.keras.models import Sequential\n",
    "from tensorflow.keras.layers import Dense, Dropout\n",
    "from tensorflow.keras.callbacks import EarlyStopping\n",
    "from sklearn.metrics import classification_report, confusion_matrix\n",
    "\n",
    "from sklearn.ensemble import RandomForestClassifier\n",
    "from sklearn import metrics\n",
    "from sklearn.utils import resample\n",
    "from imblearn.over_sampling import SMOTE"
   ]
  },
  {
   "cell_type": "code",
   "execution_count": 2,
   "id": "7afc44fc",
   "metadata": {},
   "outputs": [],
   "source": [
    "model = pd.read_csv(\"IL_Loan_Outcome.csv\", low_memory = False)"
   ]
  },
  {
   "cell_type": "code",
   "execution_count": 3,
   "id": "fa3ae551",
   "metadata": {},
   "outputs": [
    {
     "name": "stdout",
     "output_type": "stream",
     "text": [
      "Total columns: 180\n",
      "Total rows: 199899\n"
     ]
    }
   ],
   "source": [
    "# TOTAL ROWS AND COLUMNS\n",
    "print('Total columns:',len(model.columns))\n",
    "print('Total rows:',len(model))"
   ]
  },
  {
   "cell_type": "code",
   "execution_count": 4,
   "id": "3f7c1393",
   "metadata": {},
   "outputs": [
    {
     "data": {
      "image/png": "[encoded data removed]",
      "text/plain": [
       "<Figure size 864x720 with 1 Axes>"
      ]
     },
     "metadata": {
      "needs_background": "light"
     },
     "output_type": "display_data"
    }
   ],
   "source": [
    "# DISTRIBUTION OF CLASSES\n",
    "plt.figure(figsize=(12,10))\n",
    "plt.title(\"DISTRIBUTION OF CLASSES: 1 is Accept, 0 is Reject\")\n",
    "ax = sns.countplot(x = model[\"action_taken\"])\n",
    "for p in ax.patches:\n",
    "   ax.annotate('{:.1f}'.format(p.get_height()), (p.get_x()+0.35, p.get_height()+1000.52))"
   ]
  },
  {
   "cell_type": "code",
   "execution_count": 9,
   "id": "b1ba0700",
   "metadata": {},
   "outputs": [],
   "source": [
    "##### ML Classification Models ####"
   ]
  },
  {
   "cell_type": "code",
   "execution_count": 10,
   "id": "f4d841f7",
   "metadata": {},
   "outputs": [
    {
     "name": "stdout",
     "output_type": "stream",
     "text": [
      "[[ 3339   237]\n",
      " [  779 45620]]\n",
      "              precision    recall  f1-score   support\n",
      "\n",
      "           0       0.81      0.93      0.87      3576\n",
      "           1       0.99      0.98      0.99     46399\n",
      "\n",
      "    accuracy                           0.98     49975\n",
      "   macro avg       0.90      0.96      0.93     49975\n",
      "weighted avg       0.98      0.98      0.98     49975\n",
      "\n"
     ]
    }
   ],
   "source": [
    "### RANDOM FOREST ###\n",
    "# OVER SAMPLING THE MINORITY (REJECT)\n",
    "X = model.drop(\"action_taken\",axis = 1)\n",
    "y = model[\"action_taken\"]\n",
    "\n",
    "X_train, X_test, y_train, y_test = train_test_split(X, y, test_size=0.25, random_state = 0)\n",
    "\n",
    "X = pd.concat([X_train, y_train], axis=1)\n",
    "reject = X[X[\"action_taken\"]==0]\n",
    "accept = X[X[\"action_taken\"]==1]\n",
    "\n",
    "reject_o = resample(reject,replace=True,n_samples=len(accept),random_state=0)\n",
    "new = pd.concat([accept, reject_o])\n",
    "\n",
    "# RETEST\n",
    "y_train = new[\"action_taken\"]\n",
    "X_train = new.drop(\"action_taken\", axis=1)\n",
    "rfco = RandomForestClassifier(n_estimators = 100, random_state = 0).fit(X_train, y_train)\n",
    "predo = rfco.predict(X_test)\n",
    "print(confusion_matrix(y_test,predo))\n",
    "print(classification_report(y_test,predo))"
   ]
  },
  {
   "cell_type": "code",
   "execution_count": 11,
   "id": "4848fbe7",
   "metadata": {},
   "outputs": [
    {
     "name": "stdout",
     "output_type": "stream",
     "text": [
      "[[ 3562    14]\n",
      " [ 2858 43541]]\n",
      "              precision    recall  f1-score   support\n",
      "\n",
      "           0       0.55      1.00      0.71      3576\n",
      "           1       1.00      0.94      0.97     46399\n",
      "\n",
      "    accuracy                           0.94     49975\n",
      "   macro avg       0.78      0.97      0.84     49975\n",
      "weighted avg       0.97      0.94      0.95     49975\n",
      "\n"
     ]
    }
   ],
   "source": [
    "### RANDOM FOREST ###\n",
    "# UNDER SAMPLING THE MAJORITY (ACCEPT)\n",
    "X = model.drop(\"action_taken\",axis = 1)\n",
    "y = model[\"action_taken\"]\n",
    "X_train, X_test, y_train, y_test = train_test_split(X, y, test_size=0.25, random_state=0)\n",
    "\n",
    "X = pd.concat([X_train, y_train], axis=1)\n",
    "reject = X[X[\"action_taken\"]==0]\n",
    "accept = X[X[\"action_taken\"]==1]\n",
    "\n",
    "accept_u = resample(accept, replace = False, n_samples = len(reject), random_state = 0) \n",
    "new = pd.concat([accept_u, reject])\n",
    "\n",
    "# RETEST\n",
    "y_train = new[\"action_taken\"]\n",
    "X_train = new.drop(\"action_taken\", axis=1)\n",
    "rfcu = RandomForestClassifier(n_estimators = 100, random_state = 0).fit(X_train, y_train)\n",
    "predu = rfcu.predict(X_test)\n",
    "print(confusion_matrix(y_test,predu))\n",
    "print(classification_report(y_test,predu))"
   ]
  },
  {
   "cell_type": "code",
   "execution_count": 12,
   "id": "b93e82db",
   "metadata": {},
   "outputs": [
    {
     "name": "stdout",
     "output_type": "stream",
     "text": [
      "[[ 3280   296]\n",
      " [  831 45568]]\n",
      "              precision    recall  f1-score   support\n",
      "\n",
      "           0       0.80      0.92      0.85      3576\n",
      "           1       0.99      0.98      0.99     46399\n",
      "\n",
      "    accuracy                           0.98     49975\n",
      "   macro avg       0.90      0.95      0.92     49975\n",
      "weighted avg       0.98      0.98      0.98     49975\n",
      "\n"
     ]
    }
   ],
   "source": [
    "### RANDOM FOREST ###\n",
    "# SMOTE\n",
    "X = model.drop(\"action_taken\",axis = 1)\n",
    "y = model[\"action_taken\"]\n",
    "X_train, X_test, y_train, y_test = train_test_split(X, y, test_size=0.25, random_state=0)\n",
    "\n",
    "sm = SMOTE()\n",
    "X_train, y_train = sm.fit_resample(X_train, y_train)\n",
    "smote = RandomForestClassifier(n_estimators = 100, random_state = 0).fit(X_train, y_train)\n",
    "\n",
    "pred = smote.predict(X_test)\n",
    "print(confusion_matrix(y_test,pred))\n",
    "print(classification_report(y_test,pred))"
   ]
  },
  {
   "cell_type": "code",
   "execution_count": 13,
   "id": "205bc8ac",
   "metadata": {},
   "outputs": [
    {
     "name": "stdout",
     "output_type": "stream",
     "text": [
      "[[ 3232   344]\n",
      " [  646 45753]]\n",
      "              precision    recall  f1-score   support\n",
      "\n",
      "           0       0.83      0.90      0.87      3576\n",
      "           1       0.99      0.99      0.99     46399\n",
      "\n",
      "    accuracy                           0.98     49975\n",
      "   macro avg       0.91      0.94      0.93     49975\n",
      "weighted avg       0.98      0.98      0.98     49975\n",
      "\n"
     ]
    }
   ],
   "source": [
    "#RANDOM FOREST \n",
    "X = model.drop(\"action_taken\",axis = 1)\n",
    "y = model[\"action_taken\"]\n",
    "X_train, X_test, y_train, y_test = train_test_split(X, y, test_size=0.25, random_state = 0)\n",
    "# RANDOM FOREST 1: RF1\n",
    "rf = RandomForestClassifier(n_estimators = 100, random_state = 0)\n",
    "rf.fit(X_train,y_train)\n",
    "prf = rf.predict(X_test)\n",
    "print(confusion_matrix(y_test,prf))\n",
    "print(classification_report(y_test,prf))"
   ]
  },
  {
   "cell_type": "code",
   "execution_count": null,
   "id": "52ed84e3",
   "metadata": {},
   "outputs": [],
   "source": []
  },
  {
   "cell_type": "code",
   "execution_count": null,
   "id": "90d8a2b2",
   "metadata": {},
   "outputs": [],
   "source": []
  }
 ],
 "metadata": {
  "kernelspec": {
   "display_name": "Python 3 (ipykernel)",
   "language": "python",
   "name": "python3"
  },
  "language_info": {
   "codemirror_mode": {
    "name": "ipython",
    "version": 3
   },
   "file_extension": ".py",
   "mimetype": "text/x-python",
   "name": "python",
   "nbconvert_exporter": "python",
   "pygments_lexer": "ipython3",
   "version": "3.9.12"
  }
 },
 "nbformat": 4,
 "nbformat_minor": 5
}
